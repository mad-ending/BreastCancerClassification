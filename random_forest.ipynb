{
 "cells": [
  {
   "cell_type": "markdown",
   "metadata": {},
   "source": [
    "# Random Forest"
   ]
  },
  {
   "cell_type": "markdown",
   "metadata": {},
   "source": [
    "Consists of lots of different trees and it's randomness means that we add some randomness in to the equations, when creating trees.\n",
    "\n",
    "We start by creating given number of trees and then we get their votes (of what class label should be for this data point) and determine majority vote.\n",
    "\n",
    "We sample dataset into subsets that are randomly created."
   ]
  },
  {
   "cell_type": "code",
   "execution_count": 26,
   "metadata": {},
   "outputs": [],
   "source": [
    "from sklearn.model_selection import train_test_split\n",
    "from sklearn.ensemble import RandomForestClassifier\n",
    "from sklearn.tree import DecisionTreeClassifier # just for testing\n",
    "from sklearn.decomposition import PCA\n",
    "from evaluation import *\n",
    "from feature_scaler import *\n",
    "\n",
    "import numpy as np\n",
    "import pandas as pd\n",
    "import seaborn as sns\n",
    "import matplotlib.pyplot as plt"
   ]
  },
  {
   "cell_type": "markdown",
   "metadata": {},
   "source": [
    "## Data Pre-processing"
   ]
  },
  {
   "cell_type": "code",
   "execution_count": 4,
   "metadata": {},
   "outputs": [],
   "source": [
    "df = pd.read_csv('./data/breast-cancer.csv')\n",
    "\n",
    "encoder = LabelEncoder()\n",
    "df['diagnosis'] = encoder.fit_transform(df['diagnosis'])\n",
    "df = df.drop(columns=[\"id\"], axis=1)"
   ]
  },
  {
   "cell_type": "code",
   "execution_count": 5,
   "metadata": {},
   "outputs": [],
   "source": [
    "# Data split and scaling\n",
    "X = df.drop(columns=[\"diagnosis\"])\n",
    "y = df['diagnosis']\n",
    "\n",
    "X_train, X_test, y_train, y_test = train_test_split(X, y, test_size=0.2, random_state=42)\n",
    "X_train_ss, X_test_ss = standard_scaler(X_train, X_test) # Standard Scaler\n",
    "X_train_mms, X_test_mms = min_max_scaler(X_train, X_test) # Min-Max Scaler"
   ]
  },
  {
   "cell_type": "markdown",
   "metadata": {},
   "source": [
    "### Removing features when the correlation between them exceeds a certain threshold"
   ]
  },
  {
   "cell_type": "code",
   "execution_count": 6,
   "metadata": {},
   "outputs": [],
   "source": [
    "X_corr = X.corr(numeric_only=True).round(3)\n",
    "correlation_threshold = 0.9\n",
    "upper_matrix = X_corr.where(np.triu(np.ones(X_corr.shape), k=1).astype(bool))\n",
    "features_to_drop = [x for x in upper_matrix.columns if any(upper_matrix[x] > correlation_threshold)]\n",
    "X_corr = X.drop(X[features_to_drop], axis=1)\n",
    "\n",
    "X_corr_train, X_corr_test = train_test_split(X_corr, test_size=0.2, random_state=42)\n",
    "X_corr_train_ss, X_corr_test_ss = standard_scaler(X_corr_train, X_corr_test) # Standard Scaler\n",
    "X_corr_train_mms, X_corr_test_mms = min_max_scaler(X_corr_train, X_corr_test) # Min-Max Scaler"
   ]
  },
  {
   "cell_type": "markdown",
   "metadata": {},
   "source": [
    "Steps:\n",
    "- Training:\n",
    "    - Get a subset of the dataset randomly\n",
    "    - Create a decision tree with random subset\n",
    "    - Repeat as many trees there are\n",
    "- Testing:\n",
    "    - With given data point get the prediction from each tree\n",
    "    - Hold a majority vote (Classification)"
   ]
  },
  {
   "cell_type": "markdown",
   "metadata": {},
   "source": [
    "## Implementation from Scratch"
   ]
  },
  {
   "cell_type": "code",
   "execution_count": 55,
   "metadata": {},
   "outputs": [],
   "source": [
    "class RandomForestClassifierScratch:\n",
    "    def __init__(self, n_estimators=10, max_depth=5, min_samples_split=2, max_features=None):\n",
    "        self.n_estimators = n_estimators\n",
    "        self.max_depth = max_depth\n",
    "        self.min_samples_split = min_samples_split\n",
    "        self.max_features = max_features\n",
    "        self.trees = []\n",
    "\n",
    "    def _get_sample(self, X, y):\n",
    "        n_samples = len(X)\n",
    "        i = np.random.choice(n_samples, n_samples, replace=True)\n",
    "        return X[i], y[i]\n",
    "\n",
    "    def fit(self, X, y):\n",
    "        for _ in range(self.n_estimators):\n",
    "            tree = DecisionTreeClassifier(max_depth=self.max_depth,\n",
    "                                          max_features=self.max_features)\n",
    "            X_sample, y_sample = self._get_sample(X, y)\n",
    "            tree.fit(X_sample, y_sample)\n",
    "            self.trees.append(tree)\n",
    "\n",
    "    def _majority_vote(self, votes):\n",
    "        return mode(votes)\n",
    "\n",
    "    def predict(self, X):\n",
    "        tree_preds = [tree.predict(X) for tree in self.trees]\n",
    "        return [self._majority_vote(pred) for pred in tree_preds]\n",
    "    \n",
    "    def accuracy(self, y_true, y_pred):\n",
    "        return np.mean(y_true == y_pred)"
   ]
  },
  {
   "cell_type": "code",
   "execution_count": 54,
   "metadata": {},
   "outputs": [
    {
     "ename": "KeyError",
     "evalue": "\"None of [Index([407, 289, 343,  14, 308,  61,  25, 428, 168, 428,\\n       ...\\n       376,  42, 266,  60, 126, 374, 113, 362, 219, 268],\\n      dtype='int32', length=455)] are in the [columns]\"",
     "output_type": "error",
     "traceback": [
      "\u001b[1;31m---------------------------------------------------------------------------\u001b[0m",
      "\u001b[1;31mKeyError\u001b[0m                                  Traceback (most recent call last)",
      "\u001b[1;32mc:\\Users\\Tomek\\Desktop\\Solutions\\ML\\Project\\random_forest.ipynb Cell 8\u001b[0m line \u001b[0;36m2\n\u001b[0;32m      <a href='vscode-notebook-cell:/c%3A/Users/Tomek/Desktop/Solutions/ML/Project/random_forest.ipynb#W4sZmlsZQ%3D%3D?line=0'>1</a>\u001b[0m model \u001b[39m=\u001b[39m RandomForestClassifierScratch()\n\u001b[1;32m----> <a href='vscode-notebook-cell:/c%3A/Users/Tomek/Desktop/Solutions/ML/Project/random_forest.ipynb#W4sZmlsZQ%3D%3D?line=1'>2</a>\u001b[0m model\u001b[39m.\u001b[39;49mfit(X_train, y_train)\n\u001b[0;32m      <a href='vscode-notebook-cell:/c%3A/Users/Tomek/Desktop/Solutions/ML/Project/random_forest.ipynb#W4sZmlsZQ%3D%3D?line=2'>3</a>\u001b[0m predictions \u001b[39m=\u001b[39m model\u001b[39m.\u001b[39mpredict(X_test)\n\u001b[0;32m      <a href='vscode-notebook-cell:/c%3A/Users/Tomek/Desktop/Solutions/ML/Project/random_forest.ipynb#W4sZmlsZQ%3D%3D?line=4'>5</a>\u001b[0m \u001b[39mprint\u001b[39m(\u001b[39m\"\u001b[39m\u001b[39mAccuracy: \u001b[39m\u001b[39m\"\u001b[39m, model\u001b[39m.\u001b[39maccuracy(y_test, predictions))\n",
      "\u001b[1;32mc:\\Users\\Tomek\\Desktop\\Solutions\\ML\\Project\\random_forest.ipynb Cell 8\u001b[0m line \u001b[0;36m1\n\u001b[0;32m     <a href='vscode-notebook-cell:/c%3A/Users/Tomek/Desktop/Solutions/ML/Project/random_forest.ipynb#W4sZmlsZQ%3D%3D?line=14'>15</a>\u001b[0m \u001b[39mfor\u001b[39;00m _ \u001b[39min\u001b[39;00m \u001b[39mrange\u001b[39m(\u001b[39mself\u001b[39m\u001b[39m.\u001b[39mn_estimators):\n\u001b[0;32m     <a href='vscode-notebook-cell:/c%3A/Users/Tomek/Desktop/Solutions/ML/Project/random_forest.ipynb#W4sZmlsZQ%3D%3D?line=15'>16</a>\u001b[0m     tree \u001b[39m=\u001b[39m DecisionTreeClassifier(max_depth\u001b[39m=\u001b[39m\u001b[39mself\u001b[39m\u001b[39m.\u001b[39mmax_depth,\n\u001b[0;32m     <a href='vscode-notebook-cell:/c%3A/Users/Tomek/Desktop/Solutions/ML/Project/random_forest.ipynb#W4sZmlsZQ%3D%3D?line=16'>17</a>\u001b[0m                                   max_features\u001b[39m=\u001b[39m\u001b[39mself\u001b[39m\u001b[39m.\u001b[39mmax_features)\n\u001b[1;32m---> <a href='vscode-notebook-cell:/c%3A/Users/Tomek/Desktop/Solutions/ML/Project/random_forest.ipynb#W4sZmlsZQ%3D%3D?line=17'>18</a>\u001b[0m     X_sample, y_sample \u001b[39m=\u001b[39m \u001b[39mself\u001b[39;49m\u001b[39m.\u001b[39;49m_get_sample(X, y)\n\u001b[0;32m     <a href='vscode-notebook-cell:/c%3A/Users/Tomek/Desktop/Solutions/ML/Project/random_forest.ipynb#W4sZmlsZQ%3D%3D?line=18'>19</a>\u001b[0m     tree\u001b[39m.\u001b[39mfit(X_sample, y_sample)\n\u001b[0;32m     <a href='vscode-notebook-cell:/c%3A/Users/Tomek/Desktop/Solutions/ML/Project/random_forest.ipynb#W4sZmlsZQ%3D%3D?line=19'>20</a>\u001b[0m     \u001b[39mself\u001b[39m\u001b[39m.\u001b[39mtrees\u001b[39m.\u001b[39mappend(tree)\n",
      "\u001b[1;32mc:\\Users\\Tomek\\Desktop\\Solutions\\ML\\Project\\random_forest.ipynb Cell 8\u001b[0m line \u001b[0;36m1\n\u001b[0;32m     <a href='vscode-notebook-cell:/c%3A/Users/Tomek/Desktop/Solutions/ML/Project/random_forest.ipynb#W4sZmlsZQ%3D%3D?line=9'>10</a>\u001b[0m n_samples \u001b[39m=\u001b[39m \u001b[39mlen\u001b[39m(X)\n\u001b[0;32m     <a href='vscode-notebook-cell:/c%3A/Users/Tomek/Desktop/Solutions/ML/Project/random_forest.ipynb#W4sZmlsZQ%3D%3D?line=10'>11</a>\u001b[0m i \u001b[39m=\u001b[39m np\u001b[39m.\u001b[39mrandom\u001b[39m.\u001b[39mchoice(n_samples, n_samples, replace\u001b[39m=\u001b[39m\u001b[39mTrue\u001b[39;00m)\n\u001b[1;32m---> <a href='vscode-notebook-cell:/c%3A/Users/Tomek/Desktop/Solutions/ML/Project/random_forest.ipynb#W4sZmlsZQ%3D%3D?line=11'>12</a>\u001b[0m \u001b[39mreturn\u001b[39;00m  np\u001b[39m.\u001b[39mswapaxes(np\u001b[39m.\u001b[39marray(X[i]), \u001b[39m0\u001b[39m, \u001b[39m1\u001b[39m),  np\u001b[39m.\u001b[39mswapaxes(np\u001b[39m.\u001b[39marray(y[i]), \u001b[39m0\u001b[39m, \u001b[39m1\u001b[39m)\n",
      "File \u001b[1;32mc:\\Users\\Tomek\\AppData\\Local\\Programs\\Python\\Python311\\Lib\\site-packages\\pandas\\core\\frame.py:3766\u001b[0m, in \u001b[0;36mDataFrame.__getitem__\u001b[1;34m(self, key)\u001b[0m\n\u001b[0;32m   3764\u001b[0m     \u001b[39mif\u001b[39;00m is_iterator(key):\n\u001b[0;32m   3765\u001b[0m         key \u001b[39m=\u001b[39m \u001b[39mlist\u001b[39m(key)\n\u001b[1;32m-> 3766\u001b[0m     indexer \u001b[39m=\u001b[39m \u001b[39mself\u001b[39;49m\u001b[39m.\u001b[39;49mcolumns\u001b[39m.\u001b[39;49m_get_indexer_strict(key, \u001b[39m\"\u001b[39;49m\u001b[39mcolumns\u001b[39;49m\u001b[39m\"\u001b[39;49m)[\u001b[39m1\u001b[39m]\n\u001b[0;32m   3768\u001b[0m \u001b[39m# take() does not accept boolean indexers\u001b[39;00m\n\u001b[0;32m   3769\u001b[0m \u001b[39mif\u001b[39;00m \u001b[39mgetattr\u001b[39m(indexer, \u001b[39m\"\u001b[39m\u001b[39mdtype\u001b[39m\u001b[39m\"\u001b[39m, \u001b[39mNone\u001b[39;00m) \u001b[39m==\u001b[39m \u001b[39mbool\u001b[39m:\n",
      "File \u001b[1;32mc:\\Users\\Tomek\\AppData\\Local\\Programs\\Python\\Python311\\Lib\\site-packages\\pandas\\core\\indexes\\base.py:5876\u001b[0m, in \u001b[0;36mIndex._get_indexer_strict\u001b[1;34m(self, key, axis_name)\u001b[0m\n\u001b[0;32m   5873\u001b[0m \u001b[39melse\u001b[39;00m:\n\u001b[0;32m   5874\u001b[0m     keyarr, indexer, new_indexer \u001b[39m=\u001b[39m \u001b[39mself\u001b[39m\u001b[39m.\u001b[39m_reindex_non_unique(keyarr)\n\u001b[1;32m-> 5876\u001b[0m \u001b[39mself\u001b[39;49m\u001b[39m.\u001b[39;49m_raise_if_missing(keyarr, indexer, axis_name)\n\u001b[0;32m   5878\u001b[0m keyarr \u001b[39m=\u001b[39m \u001b[39mself\u001b[39m\u001b[39m.\u001b[39mtake(indexer)\n\u001b[0;32m   5879\u001b[0m \u001b[39mif\u001b[39;00m \u001b[39misinstance\u001b[39m(key, Index):\n\u001b[0;32m   5880\u001b[0m     \u001b[39m# GH 42790 - Preserve name from an Index\u001b[39;00m\n",
      "File \u001b[1;32mc:\\Users\\Tomek\\AppData\\Local\\Programs\\Python\\Python311\\Lib\\site-packages\\pandas\\core\\indexes\\base.py:5935\u001b[0m, in \u001b[0;36mIndex._raise_if_missing\u001b[1;34m(self, key, indexer, axis_name)\u001b[0m\n\u001b[0;32m   5933\u001b[0m     \u001b[39mif\u001b[39;00m use_interval_msg:\n\u001b[0;32m   5934\u001b[0m         key \u001b[39m=\u001b[39m \u001b[39mlist\u001b[39m(key)\n\u001b[1;32m-> 5935\u001b[0m     \u001b[39mraise\u001b[39;00m \u001b[39mKeyError\u001b[39;00m(\u001b[39mf\u001b[39m\u001b[39m\"\u001b[39m\u001b[39mNone of [\u001b[39m\u001b[39m{\u001b[39;00mkey\u001b[39m}\u001b[39;00m\u001b[39m] are in the [\u001b[39m\u001b[39m{\u001b[39;00maxis_name\u001b[39m}\u001b[39;00m\u001b[39m]\u001b[39m\u001b[39m\"\u001b[39m)\n\u001b[0;32m   5937\u001b[0m not_found \u001b[39m=\u001b[39m \u001b[39mlist\u001b[39m(ensure_index(key)[missing_mask\u001b[39m.\u001b[39mnonzero()[\u001b[39m0\u001b[39m]]\u001b[39m.\u001b[39munique())\n\u001b[0;32m   5938\u001b[0m \u001b[39mraise\u001b[39;00m \u001b[39mKeyError\u001b[39;00m(\u001b[39mf\u001b[39m\u001b[39m\"\u001b[39m\u001b[39m{\u001b[39;00mnot_found\u001b[39m}\u001b[39;00m\u001b[39m not in index\u001b[39m\u001b[39m\"\u001b[39m)\n",
      "\u001b[1;31mKeyError\u001b[0m: \"None of [Index([407, 289, 343,  14, 308,  61,  25, 428, 168, 428,\\n       ...\\n       376,  42, 266,  60, 126, 374, 113, 362, 219, 268],\\n      dtype='int32', length=455)] are in the [columns]\""
     ]
    }
   ],
   "source": [
    "model = RandomForestClassifierScratch()        \n",
    "model.fit(X_train, y_train)\n",
    "predictions = model.predict(X_test)\n",
    "\n",
    "print(\"Accuracy: \", model.accuracy(y_test, predictions))"
   ]
  },
  {
   "cell_type": "markdown",
   "metadata": {},
   "source": [
    "## Built-In"
   ]
  },
  {
   "cell_type": "markdown",
   "metadata": {},
   "source": [
    "### Whitout Feature Scaling"
   ]
  },
  {
   "cell_type": "markdown",
   "metadata": {},
   "source": [
    "### Min-Max Scaling"
   ]
  },
  {
   "cell_type": "code",
   "execution_count": 33,
   "metadata": {},
   "outputs": [],
   "source": [
    "score = []\n",
    "model = RandomForestClassifier(criterion='gini')\n",
    "model.fit(X_train_ss, y_train)\n",
    "y_pred = model.predict(X_test_ss)\n",
    "score.append(np.array(evaluate(y_test, y_pred, False)))\n",
    "\n",
    "model = RandomForestClassifier(criterion='entropy')\n",
    "model.fit(X_train_ss, y_train)\n",
    "y_pred = model.predict(X_test_ss)\n",
    "score.append(np.array(evaluate(y_test, y_pred, False)))\n",
    "\n",
    "model = RandomForestClassifier(criterion='log_loss')\n",
    "model.fit(X_train_ss, y_train)\n",
    "y_pred = model.predict(X_test_ss)\n",
    "score.append(np.array(evaluate(y_test, y_pred, False)))"
   ]
  },
  {
   "cell_type": "code",
   "execution_count": 34,
   "metadata": {},
   "outputs": [],
   "source": [
    "model = RandomForestClassifier(criterion='gini')\n",
    "model.fit(X_corr_train_ss, y_train)\n",
    "y_pred = model.predict(X_corr_test_ss)\n",
    "score.append(np.array(evaluate(y_test, y_pred, False)))\n",
    "\n",
    "model = RandomForestClassifier(criterion='entropy')\n",
    "model.fit(X_corr_train_ss, y_train)\n",
    "y_pred = model.predict(X_corr_test_ss)\n",
    "score.append(np.array(evaluate(y_test, y_pred, False)))\n",
    "\n",
    "model = RandomForestClassifier(criterion='log_loss')\n",
    "model.fit(X_corr_train_ss, y_train)\n",
    "y_pred = model.predict(X_corr_test_ss)\n",
    "score.append(np.array(evaluate(y_test, y_pred, False)))"
   ]
  },
  {
   "cell_type": "markdown",
   "metadata": {},
   "source": [
    "### PCA"
   ]
  },
  {
   "cell_type": "code",
   "execution_count": 35,
   "metadata": {},
   "outputs": [],
   "source": [
    "tmp_pca = [0,0,0,0,0,0]\n",
    "tmp_pca2 = [0,0,0,0,0,0]\n",
    "\n",
    "import warnings\n",
    "for n in range(2, 20):\n",
    "    pca = PCA(n_components=n)\n",
    "    pca.fit(X_train)\n",
    "\n",
    "    warnings.filterwarnings(\"ignore\")\n",
    "    X_train_pca = pca.transform(X_train_mms)\n",
    "    X_test_pca = pca.transform(X_test_mms)\n",
    "\n",
    "    model = RandomForestClassifier()\n",
    "    model.fit(X_train_pca, y_train)\n",
    "    y_pred = model.predict(X_test_pca)\n",
    "    tmp = evaluate(y_test, y_pred, False)\n",
    "    if tmp_pca[0] < tmp[0]:\n",
    "        tmp_pca = tmp\n",
    "\n",
    "    pca = PCA(n_components=n)\n",
    "    pca.fit(X_corr_train_ss)\n",
    "\n",
    "    warnings.filterwarnings(\"ignore\")\n",
    "    X_train_pca = pca.transform(X_corr_train_mms)\n",
    "    X_test_pca = pca.transform(X_corr_test_mms)\n",
    "\n",
    "    model = RandomForestClassifier()\n",
    "    model.fit(X_train_pca, y_train)\n",
    "    y_pred = model.predict(X_test_pca)\n",
    "    tmp = evaluate(y_test, y_pred, False)\n",
    "    if tmp_pca2[0] < tmp[0]:\n",
    "        tmp_pca2 = tmp\n",
    "\n",
    "score.append(tmp_pca)\n",
    "score.append(tmp_pca2)"
   ]
  },
  {
   "cell_type": "code",
   "execution_count": 36,
   "metadata": {},
   "outputs": [],
   "source": [
    "tmp_pca = [0,0,0,0,0,0]\n",
    "tmp_pca2 = [0,0,0,0,0,0]\n",
    "\n",
    "import warnings\n",
    "for n in range(2, 20):\n",
    "    pca = PCA(n_components=n)\n",
    "    pca.fit(X_train)\n",
    "\n",
    "    warnings.filterwarnings(\"ignore\")\n",
    "    X_train_pca = pca.transform(X_train_ss)\n",
    "    X_test_pca = pca.transform(X_test_ss)\n",
    "\n",
    "    model = RandomForestClassifier()\n",
    "    model.fit(X_train_pca, y_train)\n",
    "    y_pred = model.predict(X_test_pca)\n",
    "    tmp = evaluate(y_test, y_pred, False)\n",
    "    if tmp_pca[0] < tmp[0]:\n",
    "        tmp_pca = tmp\n",
    "\n",
    "    pca = PCA(n_components=n)\n",
    "    pca.fit(X_corr_train_ss)\n",
    "\n",
    "    warnings.filterwarnings(\"ignore\")\n",
    "    X_train_pca = pca.transform(X_corr_train_ss)\n",
    "    X_test_pca = pca.transform(X_corr_test_ss)\n",
    "\n",
    "    model = RandomForestClassifier()\n",
    "    model.fit(X_train_pca, y_train)\n",
    "    y_pred = model.predict(X_test_pca)\n",
    "    tmp = evaluate(y_test, y_pred, False)\n",
    "    if tmp_pca2[0] < tmp[0]:\n",
    "        tmp_pca2 = tmp\n",
    "\n",
    "score.append(tmp_pca)\n",
    "score.append(tmp_pca2)"
   ]
  },
  {
   "cell_type": "code",
   "execution_count": 38,
   "metadata": {},
   "outputs": [
    {
     "data": {
      "text/html": [
       "<div>\n",
       "<style scoped>\n",
       "    .dataframe tbody tr th:only-of-type {\n",
       "        vertical-align: middle;\n",
       "    }\n",
       "\n",
       "    .dataframe tbody tr th {\n",
       "        vertical-align: top;\n",
       "    }\n",
       "\n",
       "    .dataframe thead th {\n",
       "        text-align: right;\n",
       "    }\n",
       "</style>\n",
       "<table border=\"1\" class=\"dataframe\">\n",
       "  <thead>\n",
       "    <tr style=\"text-align: right;\">\n",
       "      <th></th>\n",
       "      <th>Accuracy</th>\n",
       "      <th>F1</th>\n",
       "      <th>Recall</th>\n",
       "      <th>Precision</th>\n",
       "      <th>AUC</th>\n",
       "      <th>Confusion Matrix</th>\n",
       "    </tr>\n",
       "  </thead>\n",
       "  <tbody>\n",
       "    <tr>\n",
       "      <th>Gini Standard Scaler</th>\n",
       "      <td>0.964912</td>\n",
       "      <td>0.964738</td>\n",
       "      <td>0.964912</td>\n",
       "      <td>0.965205</td>\n",
       "      <td>0.958074</td>\n",
       "      <td>[[70, 1], [3, 40]]</td>\n",
       "    </tr>\n",
       "    <tr>\n",
       "      <th>Entopy Standard Scaler Corr</th>\n",
       "      <td>0.964912</td>\n",
       "      <td>0.964738</td>\n",
       "      <td>0.964912</td>\n",
       "      <td>0.965205</td>\n",
       "      <td>0.958074</td>\n",
       "      <td>[[70, 1], [3, 40]]</td>\n",
       "    </tr>\n",
       "    <tr>\n",
       "      <th>Log Loss Standard Scaler</th>\n",
       "      <td>0.964912</td>\n",
       "      <td>0.964738</td>\n",
       "      <td>0.964912</td>\n",
       "      <td>0.965205</td>\n",
       "      <td>0.958074</td>\n",
       "      <td>[[70, 1], [3, 40]]</td>\n",
       "    </tr>\n",
       "    <tr>\n",
       "      <th>Gini Standard Scaler Corr</th>\n",
       "      <td>0.964912</td>\n",
       "      <td>0.964912</td>\n",
       "      <td>0.964912</td>\n",
       "      <td>0.964912</td>\n",
       "      <td>0.962660</td>\n",
       "      <td>[[69, 2], [2, 41]]</td>\n",
       "    </tr>\n",
       "    <tr>\n",
       "      <th>Entopy Standard Scaler</th>\n",
       "      <td>0.956140</td>\n",
       "      <td>0.956036</td>\n",
       "      <td>0.956140</td>\n",
       "      <td>0.956088</td>\n",
       "      <td>0.951032</td>\n",
       "      <td>[[69, 2], [3, 40]]</td>\n",
       "    </tr>\n",
       "    <tr>\n",
       "      <th>Log Loss Standard Scaler Corr</th>\n",
       "      <td>0.964912</td>\n",
       "      <td>0.964912</td>\n",
       "      <td>0.964912</td>\n",
       "      <td>0.964912</td>\n",
       "      <td>0.962660</td>\n",
       "      <td>[[69, 2], [2, 41]]</td>\n",
       "    </tr>\n",
       "    <tr>\n",
       "      <th>PCA Min-Max Scaler</th>\n",
       "      <td>0.973684</td>\n",
       "      <td>0.973621</td>\n",
       "      <td>0.973684</td>\n",
       "      <td>0.973719</td>\n",
       "      <td>0.969702</td>\n",
       "      <td>[[70, 1], [2, 41]]</td>\n",
       "    </tr>\n",
       "    <tr>\n",
       "      <th>PCA Min-MAx Scaler Corr</th>\n",
       "      <td>0.938596</td>\n",
       "      <td>0.938450</td>\n",
       "      <td>0.938596</td>\n",
       "      <td>0.938457</td>\n",
       "      <td>0.932362</td>\n",
       "      <td>[[68, 3], [4, 39]]</td>\n",
       "    </tr>\n",
       "    <tr>\n",
       "      <th>PCA Standard Scaler</th>\n",
       "      <td>0.982456</td>\n",
       "      <td>0.982369</td>\n",
       "      <td>0.982456</td>\n",
       "      <td>0.982937</td>\n",
       "      <td>0.976744</td>\n",
       "      <td>[[71, 0], [2, 41]]</td>\n",
       "    </tr>\n",
       "    <tr>\n",
       "      <th>PCA Standard Scaler Corr</th>\n",
       "      <td>0.938596</td>\n",
       "      <td>0.938450</td>\n",
       "      <td>0.938596</td>\n",
       "      <td>0.938457</td>\n",
       "      <td>0.932362</td>\n",
       "      <td>[[68, 3], [4, 39]]</td>\n",
       "    </tr>\n",
       "  </tbody>\n",
       "</table>\n",
       "</div>"
      ],
      "text/plain": [
       "                               Accuracy        F1    Recall  Precision   \n",
       "Gini Standard Scaler           0.964912  0.964738  0.964912   0.965205  \\\n",
       "Entopy Standard Scaler Corr    0.964912  0.964738  0.964912   0.965205   \n",
       "Log Loss Standard Scaler       0.964912  0.964738  0.964912   0.965205   \n",
       "Gini Standard Scaler Corr      0.964912  0.964912  0.964912   0.964912   \n",
       "Entopy Standard Scaler         0.956140  0.956036  0.956140   0.956088   \n",
       "Log Loss Standard Scaler Corr  0.964912  0.964912  0.964912   0.964912   \n",
       "PCA Min-Max Scaler             0.973684  0.973621  0.973684   0.973719   \n",
       "PCA Min-MAx Scaler Corr        0.938596  0.938450  0.938596   0.938457   \n",
       "PCA Standard Scaler            0.982456  0.982369  0.982456   0.982937   \n",
       "PCA Standard Scaler Corr       0.938596  0.938450  0.938596   0.938457   \n",
       "\n",
       "                                    AUC    Confusion Matrix  \n",
       "Gini Standard Scaler           0.958074  [[70, 1], [3, 40]]  \n",
       "Entopy Standard Scaler Corr    0.958074  [[70, 1], [3, 40]]  \n",
       "Log Loss Standard Scaler       0.958074  [[70, 1], [3, 40]]  \n",
       "Gini Standard Scaler Corr      0.962660  [[69, 2], [2, 41]]  \n",
       "Entopy Standard Scaler         0.951032  [[69, 2], [3, 40]]  \n",
       "Log Loss Standard Scaler Corr  0.962660  [[69, 2], [2, 41]]  \n",
       "PCA Min-Max Scaler             0.969702  [[70, 1], [2, 41]]  \n",
       "PCA Min-MAx Scaler Corr        0.932362  [[68, 3], [4, 39]]  \n",
       "PCA Standard Scaler            0.976744  [[71, 0], [2, 41]]  \n",
       "PCA Standard Scaler Corr       0.932362  [[68, 3], [4, 39]]  "
      ]
     },
     "execution_count": 38,
     "metadata": {},
     "output_type": "execute_result"
    }
   ],
   "source": [
    "pd.DataFrame(score,\n",
    "    index=['Gini Standard Scaler', 'Entopy Standard Scaler Corr', 'Log Loss Standard Scaler', 'Gini Standard Scaler Corr', 'Entopy Standard Scaler', 'Log Loss Standard Scaler Corr', 'PCA Min-Max Scaler', 'PCA Min-MAx Scaler Corr', 'PCA Standard Scaler', 'PCA Standard Scaler Corr'], \n",
    "    columns=['Accuracy', 'F1', 'Recall', 'Precision', 'AUC', 'Confusion Matrix'])"
   ]
  },
  {
   "cell_type": "markdown",
   "metadata": {},
   "source": [
    "### Standard Scaling"
   ]
  }
 ],
 "metadata": {
  "kernelspec": {
   "display_name": "Python 3",
   "language": "python",
   "name": "python3"
  },
  "language_info": {
   "codemirror_mode": {
    "name": "ipython",
    "version": 3
   },
   "file_extension": ".py",
   "mimetype": "text/x-python",
   "name": "python",
   "nbconvert_exporter": "python",
   "pygments_lexer": "ipython3",
   "version": "3.11.4"
  }
 },
 "nbformat": 4,
 "nbformat_minor": 2
}
