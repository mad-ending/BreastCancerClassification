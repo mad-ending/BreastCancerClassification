{
 "cells": [
  {
   "cell_type": "markdown",
   "metadata": {},
   "source": [
    "# Logistic Regression"
   ]
  },
  {
   "cell_type": "code",
   "execution_count": 38,
   "metadata": {},
   "outputs": [],
   "source": [
    "from sklearn.model_selection import train_test_split\n",
    "from sklearn.linear_model import LogisticRegression\n",
    "from sklearn.decomposition import PCA\n",
    "from evaluation import *\n",
    "from feature_scaler import *\n",
    "\n",
    "import numpy as np\n",
    "import pandas as pd\n",
    "import seaborn as sns\n",
    "import matplotlib.pyplot as plt"
   ]
  },
  {
   "cell_type": "markdown",
   "metadata": {},
   "source": [
    "## Data Pre-processing"
   ]
  },
  {
   "cell_type": "code",
   "execution_count": 39,
   "metadata": {},
   "outputs": [],
   "source": [
    "df = pd.read_csv('./data/breast-cancer.csv')\n",
    "\n",
    "encoder = LabelEncoder()\n",
    "df['diagnosis'] = encoder.fit_transform(df['diagnosis'])\n",
    "df = df.drop(columns=[\"id\"], axis=1)"
   ]
  },
  {
   "cell_type": "code",
   "execution_count": 40,
   "metadata": {},
   "outputs": [],
   "source": [
    "# Data split and scaling\n",
    "X = df.drop(columns=[\"diagnosis\"])\n",
    "y = df['diagnosis']\n",
    "\n",
    "X_train, X_test, y_train, y_test = train_test_split(X, y, test_size=0.2, random_state=42)\n",
    "X_train_ss, X_test_ss = standard_scaler(X_train, X_test) # Standard Scaler\n",
    "X_train_mms, X_test_mms = min_max_scaler(X_train, X_test) # Min-Max Scaler"
   ]
  },
  {
   "cell_type": "markdown",
   "metadata": {},
   "source": [
    "### Removing features when the correlation between them exceeds a certain threshold"
   ]
  },
  {
   "cell_type": "code",
   "execution_count": 41,
   "metadata": {},
   "outputs": [],
   "source": [
    "X_corr = X.corr(numeric_only=True).round(3)\n",
    "correlation_threshold = 0.9\n",
    "upper_matrix = X_corr.where(np.triu(np.ones(X_corr.shape), k=1).astype(bool))\n",
    "features_to_drop = [x for x in upper_matrix.columns if any(upper_matrix[x] > correlation_threshold)]\n",
    "X_corr = X.drop(X[features_to_drop], axis=1)\n",
    "\n",
    "X_corr_train, X_corr_test = train_test_split(X_corr, test_size=0.2, random_state=42)\n",
    "X_corr_train_ss, X_corr_test_ss = standard_scaler(X_corr_train, X_corr_test) # Standard Scaler\n",
    "X_corr_train_mms, X_corr_test_mms = min_max_scaler(X_corr_train, X_corr_test) # Min-Max Scaler"
   ]
  },
  {
   "cell_type": "markdown",
   "metadata": {},
   "source": [
    "## Implementation from Scratch"
   ]
  },
  {
   "cell_type": "code",
   "execution_count": 42,
   "metadata": {},
   "outputs": [],
   "source": [
    "class LinearRegressionClassifier:\n",
    "    def __init__(self, learning_rate=0.01, num_iterations=1000, threshold=0.5):\n",
    "        self.learning_rate = learning_rate\n",
    "        self.num_iterations = num_iterations\n",
    "        self.threshold = threshold\n",
    "        self.weights = None\n",
    "        self.bias = None\n",
    "\n",
    "    def fit(self, X, y):\n",
    "        num_samples, num_features = X.shape\n",
    "\n",
    "        self.weights = np.zeros(num_features)\n",
    "        self.bias = 0\n",
    "\n",
    "        for _ in range(self.num_iterations):\n",
    "            predictions = self.predict(X)\n",
    "\n",
    "            dw = (1/num_samples) * np.dot(X.T, (predictions - y))\n",
    "            db = (1/num_samples) * np.sum(predictions - y)\n",
    "\n",
    "            self.weights -= self.learning_rate * dw\n",
    "            self.bias -= self.learning_rate * db\n",
    "\n",
    "    def predict(self, X):\n",
    "        return expit(np.dot(X, self.weights) + self.bias)\n",
    "\n",
    "    def classify(self, predictions):\n",
    "        return (predictions >= self.threshold).astype(int)\n",
    "\n",
    "    def accuracy(self, y_true, y_pred):\n",
    "        return np.mean(y_true == y_pred)"
   ]
  },
  {
   "cell_type": "code",
   "execution_count": 43,
   "metadata": {},
   "outputs": [
    {
     "ename": "NameError",
     "evalue": "name 'expit' is not defined",
     "output_type": "error",
     "traceback": [
      "\u001b[1;31m---------------------------------------------------------------------------\u001b[0m",
      "\u001b[1;31mNameError\u001b[0m                                 Traceback (most recent call last)",
      "\u001b[1;32mc:\\Users\\Tomek\\Desktop\\Projects\\BreastCancerClassification\\logistic_regression.ipynb Cell 10\u001b[0m line \u001b[0;36m2\n\u001b[0;32m      <a href='vscode-notebook-cell:/c%3A/Users/Tomek/Desktop/Projects/BreastCancerClassification/logistic_regression.ipynb#X12sZmlsZQ%3D%3D?line=0'>1</a>\u001b[0m model \u001b[39m=\u001b[39m LinearRegressionClassifier(learning_rate\u001b[39m=\u001b[39m\u001b[39m0.01\u001b[39m, num_iterations\u001b[39m=\u001b[39m\u001b[39m1000\u001b[39m, threshold\u001b[39m=\u001b[39m\u001b[39m0.5\u001b[39m)\n\u001b[1;32m----> <a href='vscode-notebook-cell:/c%3A/Users/Tomek/Desktop/Projects/BreastCancerClassification/logistic_regression.ipynb#X12sZmlsZQ%3D%3D?line=1'>2</a>\u001b[0m model\u001b[39m.\u001b[39;49mfit(X_train, y_train)\n\u001b[0;32m      <a href='vscode-notebook-cell:/c%3A/Users/Tomek/Desktop/Projects/BreastCancerClassification/logistic_regression.ipynb#X12sZmlsZQ%3D%3D?line=3'>4</a>\u001b[0m predictions \u001b[39m=\u001b[39m model\u001b[39m.\u001b[39mpredict(X_test)\n\u001b[0;32m      <a href='vscode-notebook-cell:/c%3A/Users/Tomek/Desktop/Projects/BreastCancerClassification/logistic_regression.ipynb#X12sZmlsZQ%3D%3D?line=4'>5</a>\u001b[0m classified_predictions \u001b[39m=\u001b[39m model\u001b[39m.\u001b[39mclassify(predictions)\n",
      "\u001b[1;32mc:\\Users\\Tomek\\Desktop\\Projects\\BreastCancerClassification\\logistic_regression.ipynb Cell 10\u001b[0m line \u001b[0;36m1\n\u001b[0;32m     <a href='vscode-notebook-cell:/c%3A/Users/Tomek/Desktop/Projects/BreastCancerClassification/logistic_regression.ipynb#X12sZmlsZQ%3D%3D?line=12'>13</a>\u001b[0m \u001b[39mself\u001b[39m\u001b[39m.\u001b[39mbias \u001b[39m=\u001b[39m \u001b[39m0\u001b[39m\n\u001b[0;32m     <a href='vscode-notebook-cell:/c%3A/Users/Tomek/Desktop/Projects/BreastCancerClassification/logistic_regression.ipynb#X12sZmlsZQ%3D%3D?line=14'>15</a>\u001b[0m \u001b[39mfor\u001b[39;00m _ \u001b[39min\u001b[39;00m \u001b[39mrange\u001b[39m(\u001b[39mself\u001b[39m\u001b[39m.\u001b[39mnum_iterations):\n\u001b[1;32m---> <a href='vscode-notebook-cell:/c%3A/Users/Tomek/Desktop/Projects/BreastCancerClassification/logistic_regression.ipynb#X12sZmlsZQ%3D%3D?line=15'>16</a>\u001b[0m     predictions \u001b[39m=\u001b[39m \u001b[39mself\u001b[39;49m\u001b[39m.\u001b[39;49mpredict(X)\n\u001b[0;32m     <a href='vscode-notebook-cell:/c%3A/Users/Tomek/Desktop/Projects/BreastCancerClassification/logistic_regression.ipynb#X12sZmlsZQ%3D%3D?line=17'>18</a>\u001b[0m     dw \u001b[39m=\u001b[39m (\u001b[39m1\u001b[39m\u001b[39m/\u001b[39mnum_samples) \u001b[39m*\u001b[39m np\u001b[39m.\u001b[39mdot(X\u001b[39m.\u001b[39mT, (predictions \u001b[39m-\u001b[39m y))\n\u001b[0;32m     <a href='vscode-notebook-cell:/c%3A/Users/Tomek/Desktop/Projects/BreastCancerClassification/logistic_regression.ipynb#X12sZmlsZQ%3D%3D?line=18'>19</a>\u001b[0m     db \u001b[39m=\u001b[39m (\u001b[39m1\u001b[39m\u001b[39m/\u001b[39mnum_samples) \u001b[39m*\u001b[39m np\u001b[39m.\u001b[39msum(predictions \u001b[39m-\u001b[39m y)\n",
      "\u001b[1;32mc:\\Users\\Tomek\\Desktop\\Projects\\BreastCancerClassification\\logistic_regression.ipynb Cell 10\u001b[0m line \u001b[0;36m2\n\u001b[0;32m     <a href='vscode-notebook-cell:/c%3A/Users/Tomek/Desktop/Projects/BreastCancerClassification/logistic_regression.ipynb#X12sZmlsZQ%3D%3D?line=23'>24</a>\u001b[0m \u001b[39mdef\u001b[39;00m \u001b[39mpredict\u001b[39m(\u001b[39mself\u001b[39m, X):\n\u001b[1;32m---> <a href='vscode-notebook-cell:/c%3A/Users/Tomek/Desktop/Projects/BreastCancerClassification/logistic_regression.ipynb#X12sZmlsZQ%3D%3D?line=24'>25</a>\u001b[0m     \u001b[39mreturn\u001b[39;00m expit(np\u001b[39m.\u001b[39mdot(X, \u001b[39mself\u001b[39m\u001b[39m.\u001b[39mweights) \u001b[39m+\u001b[39m \u001b[39mself\u001b[39m\u001b[39m.\u001b[39mbias)\n",
      "\u001b[1;31mNameError\u001b[0m: name 'expit' is not defined"
     ]
    }
   ],
   "source": [
    "model = LinearRegressionClassifier(learning_rate=0.01, num_iterations=1000, threshold=0.5)\n",
    "model.fit(X_train, y_train)\n",
    "\n",
    "predictions = model.predict(X_test)\n",
    "classified_predictions = model.classify(predictions)\n",
    "\n",
    "accurracy = model.accuracy(y_test, classified_predictions)\n",
    "print(\"Accuracy:\", accurracy * 100, \"%\")"
   ]
  },
  {
   "cell_type": "markdown",
   "metadata": {},
   "source": [
    "## Built-In"
   ]
  },
  {
   "cell_type": "markdown",
   "metadata": {},
   "source": [
    "### Min-Max Scaling"
   ]
  },
  {
   "cell_type": "code",
   "execution_count": 56,
   "metadata": {},
   "outputs": [],
   "source": [
    "score = [] \n",
    "model = LogisticRegression()\n",
    "model.fit(X_train_mms, y_train)\n",
    "y_pred = model.predict(X_test_mms)\n",
    "score.append(np.array(evaluate(y_test, y_pred, False)))\n",
    "\n",
    "model = LogisticRegression()\n",
    "model.fit(X_corr_train_mms, y_train)\n",
    "y_pred = model.predict(X_corr_test_mms)\n",
    "score.append(np.array(evaluate(y_test, y_pred, False)))"
   ]
  },
  {
   "cell_type": "markdown",
   "metadata": {},
   "source": [
    "### Standard Scaling"
   ]
  },
  {
   "cell_type": "code",
   "execution_count": 57,
   "metadata": {},
   "outputs": [],
   "source": [
    "model = LogisticRegression()\n",
    "model.fit(X_train_ss, y_train)\n",
    "y_pred = model.predict(X_test_ss)\n",
    "score.append(np.array(evaluate(y_test, y_pred, False)))\n",
    "\n",
    "model = LogisticRegression()\n",
    "model.fit(X_corr_train_ss, y_train)\n",
    "y_pred = model.predict(X_corr_test_ss)\n",
    "score.append(np.array(evaluate(y_test, y_pred, False)))"
   ]
  },
  {
   "cell_type": "markdown",
   "metadata": {},
   "source": [
    "### PCA"
   ]
  },
  {
   "cell_type": "code",
   "execution_count": 58,
   "metadata": {},
   "outputs": [],
   "source": [
    "tmp_pca = [0,0,0,0,0,0]\n",
    "tmp_pca2 = [0,0,0,0,0,0]\n",
    "\n",
    "import warnings\n",
    "for n in range(2, 20):\n",
    "    pca = PCA(n_components=n)\n",
    "    pca.fit(X_train)\n",
    "\n",
    "    warnings.filterwarnings(\"ignore\")\n",
    "    X_train_pca = pca.transform(X_train_mms)\n",
    "    X_test_pca = pca.transform(X_test_mms)\n",
    "\n",
    "    model = LogisticRegression()\n",
    "    model.fit(X_train_pca, y_train)\n",
    "    y_pred = model.predict(X_test_pca)\n",
    "    tmp = evaluate(y_test, y_pred, False)\n",
    "    if tmp_pca[0] < tmp[0]:\n",
    "        tmp_pca = tmp\n",
    "\n",
    "    pca = PCA(n_components=n)\n",
    "    pca.fit(X_corr_train_ss)\n",
    "\n",
    "    warnings.filterwarnings(\"ignore\")\n",
    "    X_train_pca = pca.transform(X_corr_train_mms)\n",
    "    X_test_pca = pca.transform(X_corr_test_mms)\n",
    "\n",
    "    model = LogisticRegression()\n",
    "    model.fit(X_train_pca, y_train)\n",
    "    y_pred = model.predict(X_test_pca)\n",
    "    tmp = evaluate(y_test, y_pred, False)\n",
    "    if tmp_pca2[0] < tmp[0]:\n",
    "        tmp_pca2 = tmp\n",
    "\n",
    "score.append(tmp_pca)\n",
    "score.append(tmp_pca2)\n"
   ]
  },
  {
   "cell_type": "code",
   "execution_count": 59,
   "metadata": {},
   "outputs": [],
   "source": [
    "tmp_pca = [0,0,0,0,0,0]\n",
    "tmp_pca2 = [0,0,0,0,0,0]\n",
    "\n",
    "import warnings\n",
    "for n in range(2, 20):\n",
    "    pca = PCA(n_components=n)\n",
    "    pca.fit(X_train)\n",
    "\n",
    "    warnings.filterwarnings(\"ignore\")\n",
    "    X_train_pca = pca.transform(X_train_ss)\n",
    "    X_test_pca = pca.transform(X_test_ss)\n",
    "\n",
    "    model = LogisticRegression()\n",
    "    model.fit(X_train_pca, y_train)\n",
    "    y_pred = model.predict(X_test_pca)\n",
    "    tmp = evaluate(y_test, y_pred, False)\n",
    "    if tmp_pca[0] < tmp[0]:\n",
    "        tmp_pca = tmp\n",
    "\n",
    "    pca = PCA(n_components=n)\n",
    "    pca.fit(X_corr_train_ss)\n",
    "\n",
    "    warnings.filterwarnings(\"ignore\")\n",
    "    X_train_pca = pca.transform(X_corr_train_ss)\n",
    "    X_test_pca = pca.transform(X_corr_test_ss)\n",
    "\n",
    "    model = LogisticRegression()\n",
    "    model.fit(X_train_pca, y_train)\n",
    "    y_pred = model.predict(X_test_pca)\n",
    "    tmp = evaluate(y_test, y_pred, False)\n",
    "    if tmp_pca2[0] < tmp[0]:\n",
    "        tmp_pca2 = tmp\n",
    "\n",
    "score.append(tmp_pca)\n",
    "score.append(tmp_pca2)"
   ]
  },
  {
   "cell_type": "code",
   "execution_count": 60,
   "metadata": {},
   "outputs": [
    {
     "data": {
      "text/html": [
       "<div>\n",
       "<style scoped>\n",
       "    .dataframe tbody tr th:only-of-type {\n",
       "        vertical-align: middle;\n",
       "    }\n",
       "\n",
       "    .dataframe tbody tr th {\n",
       "        vertical-align: top;\n",
       "    }\n",
       "\n",
       "    .dataframe thead th {\n",
       "        text-align: right;\n",
       "    }\n",
       "</style>\n",
       "<table border=\"1\" class=\"dataframe\">\n",
       "  <thead>\n",
       "    <tr style=\"text-align: right;\">\n",
       "      <th></th>\n",
       "      <th>Accuracy</th>\n",
       "      <th>F1</th>\n",
       "      <th>Recall</th>\n",
       "      <th>Precision</th>\n",
       "      <th>AUC</th>\n",
       "      <th>Confusion Matrix</th>\n",
       "    </tr>\n",
       "  </thead>\n",
       "  <tbody>\n",
       "    <tr>\n",
       "      <th>Min-Max Scaler</th>\n",
       "      <td>0.982456</td>\n",
       "      <td>0.982369</td>\n",
       "      <td>0.982456</td>\n",
       "      <td>0.982937</td>\n",
       "      <td>0.976744</td>\n",
       "      <td>[[71, 0], [2, 41]]</td>\n",
       "    </tr>\n",
       "    <tr>\n",
       "      <th>Min-Max Scaler Corr</th>\n",
       "      <td>0.956140</td>\n",
       "      <td>0.955801</td>\n",
       "      <td>0.956140</td>\n",
       "      <td>0.956905</td>\n",
       "      <td>0.946446</td>\n",
       "      <td>[[70, 1], [4, 39]]</td>\n",
       "    </tr>\n",
       "    <tr>\n",
       "      <th>Standard Scaler</th>\n",
       "      <td>0.973684</td>\n",
       "      <td>0.973621</td>\n",
       "      <td>0.973684</td>\n",
       "      <td>0.973719</td>\n",
       "      <td>0.969702</td>\n",
       "      <td>[[70, 1], [2, 41]]</td>\n",
       "    </tr>\n",
       "    <tr>\n",
       "      <th>Standard Scaler Corr</th>\n",
       "      <td>0.982456</td>\n",
       "      <td>0.982456</td>\n",
       "      <td>0.982456</td>\n",
       "      <td>0.982456</td>\n",
       "      <td>0.981330</td>\n",
       "      <td>[[70, 1], [1, 42]]</td>\n",
       "    </tr>\n",
       "    <tr>\n",
       "      <th>PCA Min-Max Scaler</th>\n",
       "      <td>0.964912</td>\n",
       "      <td>0.964738</td>\n",
       "      <td>0.964912</td>\n",
       "      <td>0.965205</td>\n",
       "      <td>0.958074</td>\n",
       "      <td>[[70, 1], [3, 40]]</td>\n",
       "    </tr>\n",
       "    <tr>\n",
       "      <th>PCA Min-MAx Scaler Corr</th>\n",
       "      <td>0.964912</td>\n",
       "      <td>0.964738</td>\n",
       "      <td>0.964912</td>\n",
       "      <td>0.965205</td>\n",
       "      <td>0.958074</td>\n",
       "      <td>[[70, 1], [3, 40]]</td>\n",
       "    </tr>\n",
       "    <tr>\n",
       "      <th>PCA Standard Scaler</th>\n",
       "      <td>0.991228</td>\n",
       "      <td>0.991207</td>\n",
       "      <td>0.991228</td>\n",
       "      <td>0.991350</td>\n",
       "      <td>0.988372</td>\n",
       "      <td>[[71, 0], [1, 42]]</td>\n",
       "    </tr>\n",
       "    <tr>\n",
       "      <th>PCA Standard Scaler Corr</th>\n",
       "      <td>0.982456</td>\n",
       "      <td>0.982456</td>\n",
       "      <td>0.982456</td>\n",
       "      <td>0.982456</td>\n",
       "      <td>0.981330</td>\n",
       "      <td>[[70, 1], [1, 42]]</td>\n",
       "    </tr>\n",
       "  </tbody>\n",
       "</table>\n",
       "</div>"
      ],
      "text/plain": [
       "                          Accuracy        F1    Recall  Precision       AUC   \n",
       "Min-Max Scaler            0.982456  0.982369  0.982456   0.982937  0.976744  \\\n",
       "Min-Max Scaler Corr       0.956140  0.955801  0.956140   0.956905  0.946446   \n",
       "Standard Scaler           0.973684  0.973621  0.973684   0.973719  0.969702   \n",
       "Standard Scaler Corr      0.982456  0.982456  0.982456   0.982456  0.981330   \n",
       "PCA Min-Max Scaler        0.964912  0.964738  0.964912   0.965205  0.958074   \n",
       "PCA Min-MAx Scaler Corr   0.964912  0.964738  0.964912   0.965205  0.958074   \n",
       "PCA Standard Scaler       0.991228  0.991207  0.991228   0.991350  0.988372   \n",
       "PCA Standard Scaler Corr  0.982456  0.982456  0.982456   0.982456  0.981330   \n",
       "\n",
       "                            Confusion Matrix  \n",
       "Min-Max Scaler            [[71, 0], [2, 41]]  \n",
       "Min-Max Scaler Corr       [[70, 1], [4, 39]]  \n",
       "Standard Scaler           [[70, 1], [2, 41]]  \n",
       "Standard Scaler Corr      [[70, 1], [1, 42]]  \n",
       "PCA Min-Max Scaler        [[70, 1], [3, 40]]  \n",
       "PCA Min-MAx Scaler Corr   [[70, 1], [3, 40]]  \n",
       "PCA Standard Scaler       [[71, 0], [1, 42]]  \n",
       "PCA Standard Scaler Corr  [[70, 1], [1, 42]]  "
      ]
     },
     "execution_count": 60,
     "metadata": {},
     "output_type": "execute_result"
    }
   ],
   "source": [
    "pd.DataFrame(score,\n",
    "    index=['Min-Max Scaler', 'Min-Max Scaler Corr', 'Standard Scaler', 'Standard Scaler Corr', 'PCA Min-Max Scaler', 'PCA Min-MAx Scaler Corr', 'PCA Standard Scaler', 'PCA Standard Scaler Corr'], \n",
    "    columns=['Accuracy', 'F1', 'Recall', 'Precision', 'AUC', 'Confusion Matrix'])"
   ]
  },
  {
   "cell_type": "code",
   "execution_count": 61,
   "metadata": {},
   "outputs": [
    {
     "name": "stdout",
     "output_type": "stream",
     "text": [
      "Accuracy: 0.991228\n",
      "F1 Score: 0.991207\n",
      "Recall: 0.991228\n",
      "Precision: 0.99135\n",
      "AUC: 0.988372\n",
      "Confusion Matrix: \n",
      "[[71, 0], [1, 42]]\n"
     ]
    },
    {
     "data": {
      "image/png": "[encoded data removed]",
      "text/plain": [
       "<Figure size 640x480 with 2 Axes>"
      ]
     },
     "metadata": {},
     "output_type": "display_data"
    }
   ],
   "source": [
    "print(f'Accuracy: {0.991228}')\n",
    "print(f'F1 Score: {0.991207}')\n",
    "print(f'Recall: {0.991228}')\n",
    "print(f'Precision: {0.991350}')\n",
    "print(f'AUC: {0.988372}')\n",
    "print(f'Confusion Matrix: \\n{[[71, 0], [1, 42]]}')\n",
    "\n",
    "\n",
    "sns.heatmap([[71, 0], [1, 42]], annot=True, cmap='Blues')\n",
    "plt.show()"
   ]
  }
 ],
 "metadata": {
  "kernelspec": {
   "display_name": "Python 3",
   "language": "python",
   "name": "python3"
  },
  "language_info": {
   "codemirror_mode": {
    "name": "ipython",
    "version": 3
   },
   "file_extension": ".py",
   "mimetype": "text/x-python",
   "name": "python",
   "nbconvert_exporter": "python",
   "pygments_lexer": "ipython3",
   "version": "3.11.4"
  }
 },
 "nbformat": 4,
 "nbformat_minor": 2
}
